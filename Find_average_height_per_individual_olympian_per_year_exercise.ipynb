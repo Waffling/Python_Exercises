{
  "nbformat": 4,
  "nbformat_minor": 0,
  "metadata": {
    "colab": {
      "name": "Find average height per individual olympian per year exercise.ipynb",
      "provenance": [],
      "collapsed_sections": [],
      "authorship_tag": "ABX9TyNbHboD4Rr+HBCz1aB5pNdP",
      "include_colab_link": true
    },
    "kernelspec": {
      "name": "python3",
      "display_name": "Python 3"
    },
    "language_info": {
      "name": "python"
    }
  },
  "cells": [
    {
      "cell_type": "markdown",
      "metadata": {
        "id": "view-in-github",
        "colab_type": "text"
      },
      "source": [
        "<a href=\"https://colab.research.google.com/github/erick-huang15/Python_Exercises/blob/main/Find_average_height_per_individual_olympian_per_year_exercise.ipynb\" target=\"_parent\"><img src=\"https://colab.research.google.com/assets/colab-badge.svg\" alt=\"Open In Colab\"/></a>"
      ]
    },
    {
      "cell_type": "code",
      "execution_count": 1,
      "metadata": {
        "colab": {
          "base_uri": "https://localhost:8080/"
        },
        "id": "OuUCs0351cqJ",
        "outputId": "2d938f60-39e3-4bdb-a0e8-901b29a7e178"
      },
      "outputs": [
        {
          "output_type": "stream",
          "name": "stdout",
          "text": [
            "Mounted at /content/drive\n"
          ]
        }
      ],
      "source": [
        "from google.colab import drive\n",
        "drive.mount('/content/drive')"
      ]
    },
    {
      "cell_type": "code",
      "source": [
        "import pandas as pd\n",
        "\n",
        "data = '/content/drive/MyDrive/CD: Week 3: Exploratory Viz/athleteEventsNoPersonal.csv'\n",
        "olympian_data = pd.read_csv(data)\n",
        "olympian_data"
      ],
      "metadata": {
        "colab": {
          "base_uri": "https://localhost:8080/",
          "height": 423
        },
        "id": "PpUuocQL2U-N",
        "outputId": "2447e11e-c733-492e-d015-7d12e9838017"
      },
      "execution_count": 10,
      "outputs": [
        {
          "output_type": "execute_result",
          "data": {
            "text/html": [
              "\n",
              "  <div id=\"df-b8b70fba-0ec4-4e1b-95ee-3763d294c735\">\n",
              "    <div class=\"colab-df-container\">\n",
              "      <div>\n",
              "<style scoped>\n",
              "    .dataframe tbody tr th:only-of-type {\n",
              "        vertical-align: middle;\n",
              "    }\n",
              "\n",
              "    .dataframe tbody tr th {\n",
              "        vertical-align: top;\n",
              "    }\n",
              "\n",
              "    .dataframe thead th {\n",
              "        text-align: right;\n",
              "    }\n",
              "</style>\n",
              "<table border=\"1\" class=\"dataframe\">\n",
              "  <thead>\n",
              "    <tr style=\"text-align: right;\">\n",
              "      <th></th>\n",
              "      <th>ID</th>\n",
              "      <th>Age</th>\n",
              "      <th>Height</th>\n",
              "      <th>Team</th>\n",
              "      <th>NOC</th>\n",
              "      <th>Games</th>\n",
              "      <th>Year</th>\n",
              "      <th>Season</th>\n",
              "      <th>City</th>\n",
              "      <th>Sport</th>\n",
              "      <th>Event</th>\n",
              "      <th>Medal</th>\n",
              "    </tr>\n",
              "  </thead>\n",
              "  <tbody>\n",
              "    <tr>\n",
              "      <th>0</th>\n",
              "      <td>5</td>\n",
              "      <td>21.0</td>\n",
              "      <td>185.0</td>\n",
              "      <td>Netherlands</td>\n",
              "      <td>NED</td>\n",
              "      <td>1988 Winter</td>\n",
              "      <td>1988</td>\n",
              "      <td>Winter</td>\n",
              "      <td>Calgary</td>\n",
              "      <td>Speed Skating</td>\n",
              "      <td>Speed Skating Women's 500 metres</td>\n",
              "      <td>NaN</td>\n",
              "    </tr>\n",
              "    <tr>\n",
              "      <th>1</th>\n",
              "      <td>5</td>\n",
              "      <td>21.0</td>\n",
              "      <td>185.0</td>\n",
              "      <td>Netherlands</td>\n",
              "      <td>NED</td>\n",
              "      <td>1988 Winter</td>\n",
              "      <td>1988</td>\n",
              "      <td>Winter</td>\n",
              "      <td>Calgary</td>\n",
              "      <td>Speed Skating</td>\n",
              "      <td>Speed Skating Women's 1,000 metres</td>\n",
              "      <td>NaN</td>\n",
              "    </tr>\n",
              "    <tr>\n",
              "      <th>2</th>\n",
              "      <td>5</td>\n",
              "      <td>25.0</td>\n",
              "      <td>185.0</td>\n",
              "      <td>Netherlands</td>\n",
              "      <td>NED</td>\n",
              "      <td>1992 Winter</td>\n",
              "      <td>1992</td>\n",
              "      <td>Winter</td>\n",
              "      <td>Albertville</td>\n",
              "      <td>Speed Skating</td>\n",
              "      <td>Speed Skating Women's 500 metres</td>\n",
              "      <td>NaN</td>\n",
              "    </tr>\n",
              "    <tr>\n",
              "      <th>3</th>\n",
              "      <td>5</td>\n",
              "      <td>25.0</td>\n",
              "      <td>185.0</td>\n",
              "      <td>Netherlands</td>\n",
              "      <td>NED</td>\n",
              "      <td>1992 Winter</td>\n",
              "      <td>1992</td>\n",
              "      <td>Winter</td>\n",
              "      <td>Albertville</td>\n",
              "      <td>Speed Skating</td>\n",
              "      <td>Speed Skating Women's 1,000 metres</td>\n",
              "      <td>NaN</td>\n",
              "    </tr>\n",
              "    <tr>\n",
              "      <th>4</th>\n",
              "      <td>5</td>\n",
              "      <td>27.0</td>\n",
              "      <td>185.0</td>\n",
              "      <td>Netherlands</td>\n",
              "      <td>NED</td>\n",
              "      <td>1994 Winter</td>\n",
              "      <td>1994</td>\n",
              "      <td>Winter</td>\n",
              "      <td>Lillehammer</td>\n",
              "      <td>Speed Skating</td>\n",
              "      <td>Speed Skating Women's 500 metres</td>\n",
              "      <td>NaN</td>\n",
              "    </tr>\n",
              "    <tr>\n",
              "      <th>...</th>\n",
              "      <td>...</td>\n",
              "      <td>...</td>\n",
              "      <td>...</td>\n",
              "      <td>...</td>\n",
              "      <td>...</td>\n",
              "      <td>...</td>\n",
              "      <td>...</td>\n",
              "      <td>...</td>\n",
              "      <td>...</td>\n",
              "      <td>...</td>\n",
              "      <td>...</td>\n",
              "      <td>...</td>\n",
              "    </tr>\n",
              "    <tr>\n",
              "      <th>40611</th>\n",
              "      <td>135567</td>\n",
              "      <td>28.0</td>\n",
              "      <td>183.0</td>\n",
              "      <td>Russia</td>\n",
              "      <td>RUS</td>\n",
              "      <td>2004 Summer</td>\n",
              "      <td>2004</td>\n",
              "      <td>Summer</td>\n",
              "      <td>Athina</td>\n",
              "      <td>Rowing</td>\n",
              "      <td>Rowing Men's Lightweight Coxless Fours</td>\n",
              "      <td>NaN</td>\n",
              "    </tr>\n",
              "    <tr>\n",
              "      <th>40612</th>\n",
              "      <td>135570</td>\n",
              "      <td>27.0</td>\n",
              "      <td>176.0</td>\n",
              "      <td>Poland</td>\n",
              "      <td>POL</td>\n",
              "      <td>2014 Winter</td>\n",
              "      <td>2014</td>\n",
              "      <td>Winter</td>\n",
              "      <td>Sochi</td>\n",
              "      <td>Ski Jumping</td>\n",
              "      <td>Ski Jumping Men's Large Hill, Individual</td>\n",
              "      <td>NaN</td>\n",
              "    </tr>\n",
              "    <tr>\n",
              "      <th>40613</th>\n",
              "      <td>135570</td>\n",
              "      <td>27.0</td>\n",
              "      <td>176.0</td>\n",
              "      <td>Poland</td>\n",
              "      <td>POL</td>\n",
              "      <td>2014 Winter</td>\n",
              "      <td>2014</td>\n",
              "      <td>Winter</td>\n",
              "      <td>Sochi</td>\n",
              "      <td>Ski Jumping</td>\n",
              "      <td>Ski Jumping Men's Large Hill, Team</td>\n",
              "      <td>NaN</td>\n",
              "    </tr>\n",
              "    <tr>\n",
              "      <th>40614</th>\n",
              "      <td>135571</td>\n",
              "      <td>30.0</td>\n",
              "      <td>185.0</td>\n",
              "      <td>Poland</td>\n",
              "      <td>POL</td>\n",
              "      <td>1998 Winter</td>\n",
              "      <td>1998</td>\n",
              "      <td>Winter</td>\n",
              "      <td>Nagano</td>\n",
              "      <td>Bobsleigh</td>\n",
              "      <td>Bobsleigh Men's Four</td>\n",
              "      <td>NaN</td>\n",
              "    </tr>\n",
              "    <tr>\n",
              "      <th>40615</th>\n",
              "      <td>135571</td>\n",
              "      <td>34.0</td>\n",
              "      <td>185.0</td>\n",
              "      <td>Poland</td>\n",
              "      <td>POL</td>\n",
              "      <td>2002 Winter</td>\n",
              "      <td>2002</td>\n",
              "      <td>Winter</td>\n",
              "      <td>Salt Lake City</td>\n",
              "      <td>Bobsleigh</td>\n",
              "      <td>Bobsleigh Men's Four</td>\n",
              "      <td>NaN</td>\n",
              "    </tr>\n",
              "  </tbody>\n",
              "</table>\n",
              "<p>40616 rows × 12 columns</p>\n",
              "</div>\n",
              "      <button class=\"colab-df-convert\" onclick=\"convertToInteractive('df-b8b70fba-0ec4-4e1b-95ee-3763d294c735')\"\n",
              "              title=\"Convert this dataframe to an interactive table.\"\n",
              "              style=\"display:none;\">\n",
              "        \n",
              "  <svg xmlns=\"http://www.w3.org/2000/svg\" height=\"24px\"viewBox=\"0 0 24 24\"\n",
              "       width=\"24px\">\n",
              "    <path d=\"M0 0h24v24H0V0z\" fill=\"none\"/>\n",
              "    <path d=\"M18.56 5.44l.94 2.06.94-2.06 2.06-.94-2.06-.94-.94-2.06-.94 2.06-2.06.94zm-11 1L8.5 8.5l.94-2.06 2.06-.94-2.06-.94L8.5 2.5l-.94 2.06-2.06.94zm10 10l.94 2.06.94-2.06 2.06-.94-2.06-.94-.94-2.06-.94 2.06-2.06.94z\"/><path d=\"M17.41 7.96l-1.37-1.37c-.4-.4-.92-.59-1.43-.59-.52 0-1.04.2-1.43.59L10.3 9.45l-7.72 7.72c-.78.78-.78 2.05 0 2.83L4 21.41c.39.39.9.59 1.41.59.51 0 1.02-.2 1.41-.59l7.78-7.78 2.81-2.81c.8-.78.8-2.07 0-2.86zM5.41 20L4 18.59l7.72-7.72 1.47 1.35L5.41 20z\"/>\n",
              "  </svg>\n",
              "      </button>\n",
              "      \n",
              "  <style>\n",
              "    .colab-df-container {\n",
              "      display:flex;\n",
              "      flex-wrap:wrap;\n",
              "      gap: 12px;\n",
              "    }\n",
              "\n",
              "    .colab-df-convert {\n",
              "      background-color: #E8F0FE;\n",
              "      border: none;\n",
              "      border-radius: 50%;\n",
              "      cursor: pointer;\n",
              "      display: none;\n",
              "      fill: #1967D2;\n",
              "      height: 32px;\n",
              "      padding: 0 0 0 0;\n",
              "      width: 32px;\n",
              "    }\n",
              "\n",
              "    .colab-df-convert:hover {\n",
              "      background-color: #E2EBFA;\n",
              "      box-shadow: 0px 1px 2px rgba(60, 64, 67, 0.3), 0px 1px 3px 1px rgba(60, 64, 67, 0.15);\n",
              "      fill: #174EA6;\n",
              "    }\n",
              "\n",
              "    [theme=dark] .colab-df-convert {\n",
              "      background-color: #3B4455;\n",
              "      fill: #D2E3FC;\n",
              "    }\n",
              "\n",
              "    [theme=dark] .colab-df-convert:hover {\n",
              "      background-color: #434B5C;\n",
              "      box-shadow: 0px 1px 3px 1px rgba(0, 0, 0, 0.15);\n",
              "      filter: drop-shadow(0px 1px 2px rgba(0, 0, 0, 0.3));\n",
              "      fill: #FFFFFF;\n",
              "    }\n",
              "  </style>\n",
              "\n",
              "      <script>\n",
              "        const buttonEl =\n",
              "          document.querySelector('#df-b8b70fba-0ec4-4e1b-95ee-3763d294c735 button.colab-df-convert');\n",
              "        buttonEl.style.display =\n",
              "          google.colab.kernel.accessAllowed ? 'block' : 'none';\n",
              "\n",
              "        async function convertToInteractive(key) {\n",
              "          const element = document.querySelector('#df-b8b70fba-0ec4-4e1b-95ee-3763d294c735');\n",
              "          const dataTable =\n",
              "            await google.colab.kernel.invokeFunction('convertToInteractive',\n",
              "                                                     [key], {});\n",
              "          if (!dataTable) return;\n",
              "\n",
              "          const docLinkHtml = 'Like what you see? Visit the ' +\n",
              "            '<a target=\"_blank\" href=https://colab.research.google.com/notebooks/data_table.ipynb>data table notebook</a>'\n",
              "            + ' to learn more about interactive tables.';\n",
              "          element.innerHTML = '';\n",
              "          dataTable['output_type'] = 'display_data';\n",
              "          await google.colab.output.renderOutput(dataTable, element);\n",
              "          const docLink = document.createElement('div');\n",
              "          docLink.innerHTML = docLinkHtml;\n",
              "          element.appendChild(docLink);\n",
              "        }\n",
              "      </script>\n",
              "    </div>\n",
              "  </div>\n",
              "  "
            ],
            "text/plain": [
              "           ID   Age  ...                                     Event Medal\n",
              "0           5  21.0  ...          Speed Skating Women's 500 metres   NaN\n",
              "1           5  21.0  ...        Speed Skating Women's 1,000 metres   NaN\n",
              "2           5  25.0  ...          Speed Skating Women's 500 metres   NaN\n",
              "3           5  25.0  ...        Speed Skating Women's 1,000 metres   NaN\n",
              "4           5  27.0  ...          Speed Skating Women's 500 metres   NaN\n",
              "...       ...   ...  ...                                       ...   ...\n",
              "40611  135567  28.0  ...    Rowing Men's Lightweight Coxless Fours   NaN\n",
              "40612  135570  27.0  ...  Ski Jumping Men's Large Hill, Individual   NaN\n",
              "40613  135570  27.0  ...        Ski Jumping Men's Large Hill, Team   NaN\n",
              "40614  135571  30.0  ...                      Bobsleigh Men's Four   NaN\n",
              "40615  135571  34.0  ...                      Bobsleigh Men's Four   NaN\n",
              "\n",
              "[40616 rows x 12 columns]"
            ]
          },
          "metadata": {},
          "execution_count": 10
        }
      ]
    },
    {
      "cell_type": "code",
      "source": [
        "num_row = len(olympian_data) #this is to get the number of rows\n",
        "print(f'There are a total of',num_row,'rows')"
      ],
      "metadata": {
        "colab": {
          "base_uri": "https://localhost:8080/"
        },
        "id": "19FLvjsQXmn3",
        "outputId": "0d9bb6e2-e719-41c7-c106-deddc4d07135"
      },
      "execution_count": 15,
      "outputs": [
        {
          "output_type": "stream",
          "name": "stdout",
          "text": [
            "There are a total of 40616 rows\n"
          ]
        }
      ]
    },
    {
      "cell_type": "code",
      "source": [
        "num_col = len(olympian_data.columns) #this is to get the number of columns\n",
        "num_col\n",
        "print(f'Theree are a total of',num_col,'columns')"
      ],
      "metadata": {
        "colab": {
          "base_uri": "https://localhost:8080/"
        },
        "id": "TDzKyPrBXy8T",
        "outputId": "afec197b-965f-413b-84a0-0bf0bfa371b8"
      },
      "execution_count": 18,
      "outputs": [
        {
          "output_type": "stream",
          "name": "stdout",
          "text": [
            "Theree are a total of 12 columns\n"
          ]
        }
      ]
    },
    {
      "cell_type": "markdown",
      "source": [
        "### a. How many rows? \n",
        "#### There are 40616 rows\n",
        "\n",
        "### b. How many columns? \n",
        "#### There are 12 columns\n",
        "\n",
        "### c. Which columns have missing values? (Why do think there are there so many null values in the Medals column?) \n",
        "#### Age, Height, Medal all have missing values. There are so many missing values in medals column because those were all participants who did not win any metals."
      ],
      "metadata": {
        "id": "KLeqz_WF3GRP"
      }
    },
    {
      "cell_type": "code",
      "source": [
        "olympian_data.isna().sum()"
      ],
      "metadata": {
        "colab": {
          "base_uri": "https://localhost:8080/"
        },
        "id": "JLbeNOms2kp_",
        "outputId": "a7896f2c-e853-43cb-e174-a1a4a53236fb"
      },
      "execution_count": null,
      "outputs": [
        {
          "output_type": "execute_result",
          "data": {
            "text/plain": [
              "ID            0\n",
              "Age        1473\n",
              "Height     9001\n",
              "Team          0\n",
              "NOC           0\n",
              "Games         0\n",
              "Year          0\n",
              "Season        0\n",
              "City          0\n",
              "Sport         0\n",
              "Event         0\n",
              "Medal     34699\n",
              "dtype: int64"
            ]
          },
          "metadata": {},
          "execution_count": 4
        }
      ]
    },
    {
      "cell_type": "markdown",
      "source": [
        "\n",
        "### d. How many entries correspond to the city of London?\n",
        "#### There are a total of 3370 entires correspondence to the city of London"
      ],
      "metadata": {
        "id": "haOmpwJL7G-V"
      }
    },
    {
      "cell_type": "code",
      "source": [
        "london_filter = olympian_data['City']=='London' # filter london\n",
        "london_data = olympian_data[london_filter] # store the filter in a dataframe\n",
        "london_data['ID'].count() # count number of ID to get the number of entries "
      ],
      "metadata": {
        "colab": {
          "base_uri": "https://localhost:8080/"
        },
        "id": "fnwmk65SEczi",
        "outputId": "24bd3b22-5ac6-4862-e192-7c41c4d5661f"
      },
      "execution_count": null,
      "outputs": [
        {
          "output_type": "execute_result",
          "data": {
            "text/plain": [
              "3370"
            ]
          },
          "metadata": {},
          "execution_count": 45
        }
      ]
    },
    {
      "cell_type": "markdown",
      "source": [
        "### e. What age is the youngest athlete in our sample data?  Hint: use min()\n",
        "### The youngest olympian is 11 years old"
      ],
      "metadata": {
        "id": "POoHNL4yKic2"
      }
    },
    {
      "cell_type": "code",
      "source": [
        "olympian_data['Age'].min() "
      ],
      "metadata": {
        "colab": {
          "base_uri": "https://localhost:8080/"
        },
        "id": "icQW1mhSKkgA",
        "outputId": "25e17bb6-e954-404b-e2e1-717470dcb873"
      },
      "execution_count": null,
      "outputs": [
        {
          "output_type": "execute_result",
          "data": {
            "text/plain": [
              "11.0"
            ]
          },
          "metadata": {},
          "execution_count": 7
        }
      ]
    },
    {
      "cell_type": "markdown",
      "source": [
        "### Create filters and find out\n",
        "### a. How many athletes who participated in the Sport \"Tug-of-War\" were from Team \"Sweden\" in our sample dataset\n",
        "#### There are a total of 6 Sweden athletes that participated in the Tug-of-War sport\n",
        "\n",
        "### b. How many Gold medals were awarded to athletes over 40 years old? None as Sweden Team members that participated won Bronze medals"
      ],
      "metadata": {
        "id": "F_FC7B0hL4OC"
      }
    },
    {
      "cell_type": "code",
      "source": [
        "tow_filter = olympian_data['Sport']== 'Tug-Of-War' # this is to filter the sport Tug-Of-War \n",
        "tow_data = olympian_data[tow_filter] # this is to store the filter in a dataframe\n",
        "sweden_filter = tow_data['Team']=='Sweden' # this is to filter team Sweden from the Tug-Of-War dataframe\n",
        "sweden_tow_data = tow_data[sweden_filter] # this is to store the team Sweden filter in a dataframe\n",
        "medal_notna_filter = sweden_tow_data['Medal'].notna() # this is to filter medal winners\n",
        "sweden_medal_notna = sweden_tow_data[medal_notna_filter] # this is to store the winners in a dataframe\n",
        "sweden_medal_notna"
      ],
      "metadata": {
        "colab": {
          "base_uri": "https://localhost:8080/",
          "height": 396
        },
        "id": "T11b_7mEL2g2",
        "outputId": "60ce1fb9-7d92-4800-987d-37aad2440af6"
      },
      "execution_count": null,
      "outputs": [
        {
          "output_type": "execute_result",
          "data": {
            "text/html": [
              "\n",
              "  <div id=\"df-3e368708-0373-436a-9b7d-59df2fa44b9f\">\n",
              "    <div class=\"colab-df-container\">\n",
              "      <div>\n",
              "<style scoped>\n",
              "    .dataframe tbody tr th:only-of-type {\n",
              "        vertical-align: middle;\n",
              "    }\n",
              "\n",
              "    .dataframe tbody tr th {\n",
              "        vertical-align: top;\n",
              "    }\n",
              "\n",
              "    .dataframe thead th {\n",
              "        text-align: right;\n",
              "    }\n",
              "</style>\n",
              "<table border=\"1\" class=\"dataframe\">\n",
              "  <thead>\n",
              "    <tr style=\"text-align: right;\">\n",
              "      <th></th>\n",
              "      <th>ID</th>\n",
              "      <th>Age</th>\n",
              "      <th>Height</th>\n",
              "      <th>Team</th>\n",
              "      <th>NOC</th>\n",
              "      <th>Games</th>\n",
              "      <th>Year</th>\n",
              "      <th>Season</th>\n",
              "      <th>City</th>\n",
              "      <th>Sport</th>\n",
              "      <th>Event</th>\n",
              "      <th>Medal</th>\n",
              "    </tr>\n",
              "  </thead>\n",
              "  <tbody>\n",
              "    <tr>\n",
              "      <th>12681</th>\n",
              "      <td>43105</td>\n",
              "      <td>23.0</td>\n",
              "      <td>NaN</td>\n",
              "      <td>Sweden</td>\n",
              "      <td>SWE</td>\n",
              "      <td>1906 Summer</td>\n",
              "      <td>1906</td>\n",
              "      <td>Summer</td>\n",
              "      <td>Athina</td>\n",
              "      <td>Tug-Of-War</td>\n",
              "      <td>Tug-Of-War Men's Tug-Of-War</td>\n",
              "      <td>Bronze</td>\n",
              "    </tr>\n",
              "    <tr>\n",
              "      <th>13015</th>\n",
              "      <td>44087</td>\n",
              "      <td>29.0</td>\n",
              "      <td>182.0</td>\n",
              "      <td>Sweden</td>\n",
              "      <td>SWE</td>\n",
              "      <td>1906 Summer</td>\n",
              "      <td>1906</td>\n",
              "      <td>Summer</td>\n",
              "      <td>Athina</td>\n",
              "      <td>Tug-Of-War</td>\n",
              "      <td>Tug-Of-War Men's Tug-Of-War</td>\n",
              "      <td>Bronze</td>\n",
              "    </tr>\n",
              "    <tr>\n",
              "      <th>20550</th>\n",
              "      <td>68647</td>\n",
              "      <td>26.0</td>\n",
              "      <td>190.0</td>\n",
              "      <td>Sweden</td>\n",
              "      <td>SWE</td>\n",
              "      <td>1906 Summer</td>\n",
              "      <td>1906</td>\n",
              "      <td>Summer</td>\n",
              "      <td>Athina</td>\n",
              "      <td>Tug-Of-War</td>\n",
              "      <td>Tug-Of-War Men's Tug-Of-War</td>\n",
              "      <td>Bronze</td>\n",
              "    </tr>\n",
              "  </tbody>\n",
              "</table>\n",
              "</div>\n",
              "      <button class=\"colab-df-convert\" onclick=\"convertToInteractive('df-3e368708-0373-436a-9b7d-59df2fa44b9f')\"\n",
              "              title=\"Convert this dataframe to an interactive table.\"\n",
              "              style=\"display:none;\">\n",
              "        \n",
              "  <svg xmlns=\"http://www.w3.org/2000/svg\" height=\"24px\"viewBox=\"0 0 24 24\"\n",
              "       width=\"24px\">\n",
              "    <path d=\"M0 0h24v24H0V0z\" fill=\"none\"/>\n",
              "    <path d=\"M18.56 5.44l.94 2.06.94-2.06 2.06-.94-2.06-.94-.94-2.06-.94 2.06-2.06.94zm-11 1L8.5 8.5l.94-2.06 2.06-.94-2.06-.94L8.5 2.5l-.94 2.06-2.06.94zm10 10l.94 2.06.94-2.06 2.06-.94-2.06-.94-.94-2.06-.94 2.06-2.06.94z\"/><path d=\"M17.41 7.96l-1.37-1.37c-.4-.4-.92-.59-1.43-.59-.52 0-1.04.2-1.43.59L10.3 9.45l-7.72 7.72c-.78.78-.78 2.05 0 2.83L4 21.41c.39.39.9.59 1.41.59.51 0 1.02-.2 1.41-.59l7.78-7.78 2.81-2.81c.8-.78.8-2.07 0-2.86zM5.41 20L4 18.59l7.72-7.72 1.47 1.35L5.41 20z\"/>\n",
              "  </svg>\n",
              "      </button>\n",
              "      \n",
              "  <style>\n",
              "    .colab-df-container {\n",
              "      display:flex;\n",
              "      flex-wrap:wrap;\n",
              "      gap: 12px;\n",
              "    }\n",
              "\n",
              "    .colab-df-convert {\n",
              "      background-color: #E8F0FE;\n",
              "      border: none;\n",
              "      border-radius: 50%;\n",
              "      cursor: pointer;\n",
              "      display: none;\n",
              "      fill: #1967D2;\n",
              "      height: 32px;\n",
              "      padding: 0 0 0 0;\n",
              "      width: 32px;\n",
              "    }\n",
              "\n",
              "    .colab-df-convert:hover {\n",
              "      background-color: #E2EBFA;\n",
              "      box-shadow: 0px 1px 2px rgba(60, 64, 67, 0.3), 0px 1px 3px 1px rgba(60, 64, 67, 0.15);\n",
              "      fill: #174EA6;\n",
              "    }\n",
              "\n",
              "    [theme=dark] .colab-df-convert {\n",
              "      background-color: #3B4455;\n",
              "      fill: #D2E3FC;\n",
              "    }\n",
              "\n",
              "    [theme=dark] .colab-df-convert:hover {\n",
              "      background-color: #434B5C;\n",
              "      box-shadow: 0px 1px 3px 1px rgba(0, 0, 0, 0.15);\n",
              "      filter: drop-shadow(0px 1px 2px rgba(0, 0, 0, 0.3));\n",
              "      fill: #FFFFFF;\n",
              "    }\n",
              "  </style>\n",
              "\n",
              "      <script>\n",
              "        const buttonEl =\n",
              "          document.querySelector('#df-3e368708-0373-436a-9b7d-59df2fa44b9f button.colab-df-convert');\n",
              "        buttonEl.style.display =\n",
              "          google.colab.kernel.accessAllowed ? 'block' : 'none';\n",
              "\n",
              "        async function convertToInteractive(key) {\n",
              "          const element = document.querySelector('#df-3e368708-0373-436a-9b7d-59df2fa44b9f');\n",
              "          const dataTable =\n",
              "            await google.colab.kernel.invokeFunction('convertToInteractive',\n",
              "                                                     [key], {});\n",
              "          if (!dataTable) return;\n",
              "\n",
              "          const docLinkHtml = 'Like what you see? Visit the ' +\n",
              "            '<a target=\"_blank\" href=https://colab.research.google.com/notebooks/data_table.ipynb>data table notebook</a>'\n",
              "            + ' to learn more about interactive tables.';\n",
              "          element.innerHTML = '';\n",
              "          dataTable['output_type'] = 'display_data';\n",
              "          await google.colab.output.renderOutput(dataTable, element);\n",
              "          const docLink = document.createElement('div');\n",
              "          docLink.innerHTML = docLinkHtml;\n",
              "          element.appendChild(docLink);\n",
              "        }\n",
              "      </script>\n",
              "    </div>\n",
              "  </div>\n",
              "  "
            ],
            "text/plain": [
              "          ID   Age  Height  ...       Sport                        Event   Medal\n",
              "12681  43105  23.0     NaN  ...  Tug-Of-War  Tug-Of-War Men's Tug-Of-War  Bronze\n",
              "13015  44087  29.0   182.0  ...  Tug-Of-War  Tug-Of-War Men's Tug-Of-War  Bronze\n",
              "20550  68647  26.0   190.0  ...  Tug-Of-War  Tug-Of-War Men's Tug-Of-War  Bronze\n",
              "\n",
              "[3 rows x 12 columns]"
            ]
          },
          "metadata": {},
          "execution_count": 41
        }
      ]
    },
    {
      "cell_type": "markdown",
      "source": [
        "### Determine the average height of: \n",
        "### a. All rows included: 175.38\n",
        "### b. All rows included, but grouped by Event\n",
        "### c. Bonus: This dataset contains many athletes more than once (if they competed in multiple events and/or multiple years). You can confirm this by finding  .value_counts on the ID column!  For the bonus task we want to get the average height of all  the athletes, but don't want to include any athlete more than once.  Hint: We learned how to drop duplicates if EVERY column was identical, but now we want to drop a row any time just the ID is repeated.  To do this,  you can use a subset of your data as an argument in the drop_duplicates function.  You can also tell Python which of the duplicates to keep by using the keep argument."
      ],
      "metadata": {
        "id": "FVgewmBZOj1z"
      }
    },
    {
      "cell_type": "code",
      "source": [
        "#olympian_data.head()\n",
        "olympian_data['Height'].mean() # this is to get the average height"
      ],
      "metadata": {
        "colab": {
          "base_uri": "https://localhost:8080/"
        },
        "id": "PklEhk5BNBg8",
        "outputId": "692f8b41-3663-4ab5-e1ca-2e7ac99f850c"
      },
      "execution_count": null,
      "outputs": [
        {
          "output_type": "execute_result",
          "data": {
            "text/plain": [
              "175.3811165585956"
            ]
          },
          "metadata": {},
          "execution_count": 59
        }
      ]
    },
    {
      "cell_type": "code",
      "source": [
        "olympian_data.groupby('Event')['Height'].mean() # this is to get the average olypian height of every events"
      ],
      "metadata": {
        "colab": {
          "base_uri": "https://localhost:8080/"
        },
        "id": "E11cRkZDTOMN",
        "outputId": "4e783fdc-cec0-4987-d7c9-a9e15b75cf98"
      },
      "execution_count": null,
      "outputs": [
        {
          "output_type": "execute_result",
          "data": {
            "text/plain": [
              "Event\n",
              "Alpine Skiing Men's Combined                      178.547170\n",
              "Alpine Skiing Men's Downhill                      178.211679\n",
              "Alpine Skiing Men's Giant Slalom                  176.739394\n",
              "Alpine Skiing Men's Slalom                        176.482143\n",
              "Alpine Skiing Men's Super G                       179.850575\n",
              "                                                     ...    \n",
              "Wrestling Women's Flyweight, Freestyle            158.100000\n",
              "Wrestling Women's Heavyweight, Freestyle          173.444444\n",
              "Wrestling Women's Light-Heavyweight, Freestyle    170.000000\n",
              "Wrestling Women's Lightweight, Freestyle          162.666667\n",
              "Wrestling Women's Middleweight, Freestyle         164.533333\n",
              "Name: Height, Length: 726, dtype: float64"
            ]
          },
          "metadata": {},
          "execution_count": 61
        }
      ]
    }
  ]
}