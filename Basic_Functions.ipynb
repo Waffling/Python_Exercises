{
  "nbformat": 4,
  "nbformat_minor": 0,
  "metadata": {
    "colab": {
      "name": "Basic_Functions.ipynb",
      "provenance": [],
      "collapsed_sections": [],
      "authorship_tag": "ABX9TyMEfMrPboYmtvR4fyEWcpH7",
      "include_colab_link": true
    },
    "kernelspec": {
      "name": "python3",
      "display_name": "Python 3"
    },
    "language_info": {
      "name": "python"
    }
  },
  "cells": [
    {
      "cell_type": "markdown",
      "metadata": {
        "id": "view-in-github",
        "colab_type": "text"
      },
      "source": [
        "<a href=\"https://colab.research.google.com/github/erick-huang15/CodingDojo/blob/main/Basic_Functions.ipynb\" target=\"_parent\"><img src=\"https://colab.research.google.com/assets/colab-badge.svg\" alt=\"Open In Colab\"/></a>"
      ]
    },
    {
      "cell_type": "code",
      "execution_count": 5,
      "metadata": {
        "colab": {
          "base_uri": "https://localhost:8080/"
        },
        "id": "f-LfBTahcSUY",
        "outputId": "88a2de4f-65b6-426b-cd55-4c89dbf48ee6"
      },
      "outputs": [
        {
          "output_type": "execute_result",
          "data": {
            "text/plain": [
              "[10, 9, 8, 7, 6, 5, 4, 3, 2, 1, 0]"
            ]
          },
          "metadata": {},
          "execution_count": 5
        }
      ],
      "source": [
        "#Create a function that accepts a number as an input. \n",
        "#Return a new list that counts down by one, from the number (as the 0th element) down to 0 (as the last element).\n",
        "\n",
        "def accept_number(user_input):\n",
        "  user_input_list = []\n",
        "  while user_input >= 0:\n",
        "    user_input_list.append(user_input)\n",
        "    user_input = user_input-1\n",
        "  return user_input_list\n",
        "\n",
        "accept_number(10)"
      ]
    },
    {
      "cell_type": "code",
      "source": [
        "# Create a function that accepts a list and returns the sum of the first value in the list plus the list's length.\n",
        "\n",
        "def create_a_list(user_input=\"\"):\n",
        "  total = user_input[0] + len(user_input)\n",
        "  print(total)\n",
        "\n",
        "create_a_list([1,2,3,4,5])"
      ],
      "metadata": {
        "colab": {
          "base_uri": "https://localhost:8080/"
        },
        "id": "68_9o8cPhQtH",
        "outputId": "12550728-412e-4992-ccd8-4d569f2a4015"
      },
      "execution_count": 3,
      "outputs": [
        {
          "output_type": "stream",
          "name": "stdout",
          "text": [
            "6\n"
          ]
        }
      ]
    },
    {
      "cell_type": "code",
      "source": [
        "# Write a function that accepts two integers as parameters: size and value. \n",
        "#The function should create and return a list whose length is equal to the given size, and whose values are all the given value.\n",
        "\n",
        "def length_of_value(size=\"\", value=\"\"):\n",
        "  value = str(value)\n",
        "  print(value*size)\n",
        "\n",
        "length_of_value(6,2)"
      ],
      "metadata": {
        "colab": {
          "base_uri": "https://localhost:8080/"
        },
        "id": "aC9JFgcLmkm6",
        "outputId": "a0645490-ea11-4dc1-f60e-8e0e4354de71"
      },
      "execution_count": 52,
      "outputs": [
        {
          "output_type": "stream",
          "name": "stdout",
          "text": [
            "222222\n"
          ]
        }
      ]
    }
  ]
}