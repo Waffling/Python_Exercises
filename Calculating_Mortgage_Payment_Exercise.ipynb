{
  "nbformat": 4,
  "nbformat_minor": 0,
  "metadata": {
    "colab": {
      "name": "Calculating Mortgage Payment Exercise.ipynb",
      "provenance": [],
      "collapsed_sections": [],
      "mount_file_id": "1veRvAf0_ks0yakQalxMaSSqEnuecrp6s",
      "authorship_tag": "ABX9TyOt4yKTcQFCRoJ+KOVErzKd",
      "include_colab_link": true
    },
    "kernelspec": {
      "name": "python3",
      "display_name": "Python 3"
    },
    "language_info": {
      "name": "python"
    }
  },
  "cells": [
    {
      "cell_type": "markdown",
      "metadata": {
        "id": "view-in-github",
        "colab_type": "text"
      },
      "source": [
        "<a href=\"https://colab.research.google.com/github/erick-huang15/Python/blob/main/Calculating_Mortgage_Payment_Exercise.ipynb\" target=\"_parent\"><img src=\"https://colab.research.google.com/assets/colab-badge.svg\" alt=\"Open In Colab\"/></a>"
      ]
    },
    {
      "cell_type": "markdown",
      "source": [
        "#Calculating Mortgage Payment Exercise"
      ],
      "metadata": {
        "id": "L232wBpMQZYo"
      }
    },
    {
      "cell_type": "code",
      "source": [
        "principal = float(input(\"Enter the amount borrowed:\")) \n",
        "# ask user to input the principal and converting to float\n",
        "\n",
        "interest_rate = float(input(\"Enter the fixed interest rate (whole number):\"))\n",
        "# ask user to input the interest rate and converting to float\n",
        "\n",
        "number_of_payment = float(input(\"Enter the number of payments:\"))\n",
        "# ask user to input the number of payments and converting to float\n",
        "\n",
        "interest_rate = interest_rate/100/12\n",
        "\n",
        "monthly_payment = principal * (interest_rate * (1 + interest_rate)**number_of_payment)/((1+interest_rate)**number_of_payment-1)\n",
        "print(f\"Your monthly payment is $\",round(monthly_payment))\n"
      ],
      "metadata": {
        "colab": {
          "base_uri": "https://localhost:8080/"
        },
        "id": "eW-DbKeHQeQj",
        "outputId": "fdad882e-8343-46ea-809f-439d43a8b5a7"
      },
      "execution_count": 69,
      "outputs": [
        {
          "output_type": "stream",
          "name": "stdout",
          "text": [
            "Enter the amount borrowed:400000\n",
            "Enter the fixed interest rate (whole number):3\n",
            "Enter the number of payments:360\n",
            "Your monthly payment is $ 1686\n"
          ]
        }
      ]
    },
    {
      "cell_type": "code",
      "source": [
        "principal = float(input(\"Enter the amount borrowed:\")) \n",
        "# ask user to input the principal and converting to float\n",
        "\n",
        "interest_rate = float(input(\"Enter the fixed interest rate (whole number):\"))\n",
        "# ask user to input the interest rate and converting to float\n",
        "\n",
        "number_of_payment = float(input(\"Enter the number of payments:\"))\n",
        "# ask user to input the number of payments and converting to float\n",
        "\n",
        "interest_rate = interest_rate/100/12\n",
        "\n",
        "monthly_payment = principal * (interest_rate * (1 + interest_rate)**number_of_payment)/((1+interest_rate)**number_of_payment-1)\n",
        "print(f\"Your monthly payment is $\",round(monthly_payment))\n"
      ],
      "metadata": {
        "colab": {
          "base_uri": "https://localhost:8080/"
        },
        "id": "O4JWVifFl_zx",
        "outputId": "2ad36a55-d702-4e0b-afa9-6a8b06e34873"
      },
      "execution_count": 70,
      "outputs": [
        {
          "output_type": "stream",
          "name": "stdout",
          "text": [
            "Enter the amount borrowed:400000\n",
            "Enter the fixed interest rate (whole number):6\n",
            "Enter the number of payments:360\n",
            "Your monthly payment is $ 2398\n"
          ]
        }
      ]
    }
  ]
}