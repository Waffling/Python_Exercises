{
  "nbformat": 4,
  "nbformat_minor": 0,
  "metadata": {
    "colab": {
      "name": "Calculating Mortgage Payment Exercise.ipynb",
      "provenance": [],
      "mount_file_id": "1veRvAf0_ks0yakQalxMaSSqEnuecrp6s",
      "authorship_tag": "ABX9TyPuWXzY6CX1F5gcmCmjtnQP",
      "include_colab_link": true
    },
    "kernelspec": {
      "name": "python3",
      "display_name": "Python 3"
    },
    "language_info": {
      "name": "python"
    }
  },
  "cells": [
    {
      "cell_type": "markdown",
      "metadata": {
        "id": "view-in-github",
        "colab_type": "text"
      },
      "source": [
        "<a href=\"https://colab.research.google.com/github/erick-huang15/Python/blob/main/Calculating_Mortgage_Payment_Exercise.ipynb\" target=\"_parent\"><img src=\"https://colab.research.google.com/assets/colab-badge.svg\" alt=\"Open In Colab\"/></a>"
      ]
    },
    {
      "cell_type": "markdown",
      "source": [
        "#Calculating Mortgage Payment Exercise"
      ],
      "metadata": {
        "id": "L232wBpMQZYo"
      }
    },
    {
      "cell_type": "code",
      "source": [
        "principal = 400000\n",
        "apr = 0.03\n",
        "number_of_payments = 360\n",
        "\n",
        "\n",
        "monthly_payment = (principal*(1 + apr))/ number_of_payments\n",
        "print(f\"The monthly payment is: $\",round(monthly_payment))"
      ],
      "metadata": {
        "colab": {
          "base_uri": "https://localhost:8080/"
        },
        "id": "eW-DbKeHQeQj",
        "outputId": "213d3589-1b32-4ebb-a1a4-668481cfc1d6"
      },
      "execution_count": 24,
      "outputs": [
        {
          "output_type": "stream",
          "name": "stdout",
          "text": [
            "The monthly payment is: $ 1144\n"
          ]
        }
      ]
    },
    {
      "cell_type": "code",
      "source": [
        "apr = 0.06\n",
        "monthly_payment = (principal*(1 + apr))/ number_of_payments\n",
        "print(f\"The monthly payment is:\",round(monthly_payment))"
      ],
      "metadata": {
        "colab": {
          "base_uri": "https://localhost:8080/"
        },
        "id": "oqJxHLQS0sHA",
        "outputId": "01915b18-aace-4914-8523-7038a3f68b9b"
      },
      "execution_count": 26,
      "outputs": [
        {
          "output_type": "stream",
          "name": "stdout",
          "text": [
            "The monthly payment is: 1178\n"
          ]
        }
      ]
    }
  ]
}