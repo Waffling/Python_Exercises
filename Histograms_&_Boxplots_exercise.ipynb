{
  "nbformat": 4,
  "nbformat_minor": 0,
  "metadata": {
    "colab": {
      "name": "Histograms & Boxplots exercise.ipynb",
      "provenance": [],
      "collapsed_sections": [],
      "authorship_tag": "ABX9TyMMOIOHsoB1pXBJYWMv06b/",
      "include_colab_link": true
    },
    "kernelspec": {
      "name": "python3",
      "display_name": "Python 3"
    },
    "language_info": {
      "name": "python"
    }
  },
  "cells": [
    {
      "cell_type": "markdown",
      "metadata": {
        "id": "view-in-github",
        "colab_type": "text"
      },
      "source": [
        "<a href=\"https://colab.research.google.com/github/erick-huang15/Python_Exercises/blob/main/Histograms_%26_Boxplots_exercise.ipynb\" target=\"_parent\"><img src=\"https://colab.research.google.com/assets/colab-badge.svg\" alt=\"Open In Colab\"/></a>"
      ]
    },
    {
      "cell_type": "code",
      "execution_count": 2,
      "metadata": {
        "id": "M65G56RTP-bR"
      },
      "outputs": [],
      "source": [
        "url = 'https://docs.google.com/spreadsheets/d/e/2PACX-1vR0MfE1WWhAi4o97LsQBG2-jYxkjViKXCxc8ZqKAP2bSS3zlRuQsPWz9OL-XjE12g/pub?output=xlsx'"
      ]
    },
    {
      "cell_type": "code",
      "source": [
        "import pandas as pd\n",
        "import numpy as np\n",
        "import matplotlib.pyplot as plt\n",
        "import seaborn as sns\n",
        "# this is to import all three libraries"
      ],
      "metadata": {
        "id": "SmsKyG34SBoJ"
      },
      "execution_count": 1,
      "outputs": []
    },
    {
      "cell_type": "code",
      "source": [
        "animal_data = pd.read_excel(url) #this is to read the excel data\n",
        "animal_data.head() # this is to read the first five rows of data"
      ],
      "metadata": {
        "colab": {
          "base_uri": "https://localhost:8080/",
          "height": 285
        },
        "id": "Dzq2OGKMSaYu",
        "outputId": "4850845c-7994-4155-cb4c-4f6f642d3922"
      },
      "execution_count": 4,
      "outputs": [
        {
          "output_type": "execute_result",
          "data": {
            "text/html": [
              "\n",
              "  <div id=\"df-23f83bde-661a-4cab-aef4-f4d811dc6780\">\n",
              "    <div class=\"colab-df-container\">\n",
              "      <div>\n",
              "<style scoped>\n",
              "    .dataframe tbody tr th:only-of-type {\n",
              "        vertical-align: middle;\n",
              "    }\n",
              "\n",
              "    .dataframe tbody tr th {\n",
              "        vertical-align: top;\n",
              "    }\n",
              "\n",
              "    .dataframe thead th {\n",
              "        text-align: right;\n",
              "    }\n",
              "</style>\n",
              "<table border=\"1\" class=\"dataframe\">\n",
              "  <thead>\n",
              "    <tr style=\"text-align: right;\">\n",
              "      <th></th>\n",
              "      <th>Location</th>\n",
              "      <th>Number of Households (in 1000)</th>\n",
              "      <th>Percentage of households with pets</th>\n",
              "      <th>Number of Pet Households (in 1000)</th>\n",
              "      <th>Percentage of Dog Owners</th>\n",
              "      <th>Dog Owning Households (1000s)</th>\n",
              "      <th>Mean Number of Dogs per household</th>\n",
              "      <th>Dog Population (in 1000)</th>\n",
              "      <th>Percentage of Cat Owners</th>\n",
              "      <th>Cat Owning Households</th>\n",
              "      <th>Mean Number of Cats</th>\n",
              "      <th>Cat Population</th>\n",
              "    </tr>\n",
              "  </thead>\n",
              "  <tbody>\n",
              "    <tr>\n",
              "      <th>0</th>\n",
              "      <td>Alabama</td>\n",
              "      <td>1828.0</td>\n",
              "      <td>59.5</td>\n",
              "      <td>1088.0</td>\n",
              "      <td>44.1</td>\n",
              "      <td>807.0</td>\n",
              "      <td>1.7</td>\n",
              "      <td>1410.0</td>\n",
              "      <td>27.4</td>\n",
              "      <td>501.0</td>\n",
              "      <td>2.5</td>\n",
              "      <td>1252.0</td>\n",
              "    </tr>\n",
              "    <tr>\n",
              "      <th>1</th>\n",
              "      <td>Arizona</td>\n",
              "      <td>2515.0</td>\n",
              "      <td>59.5</td>\n",
              "      <td>1497.0</td>\n",
              "      <td>40.1</td>\n",
              "      <td>1008.0</td>\n",
              "      <td>1.8</td>\n",
              "      <td>1798.0</td>\n",
              "      <td>29.6</td>\n",
              "      <td>743.0</td>\n",
              "      <td>1.9</td>\n",
              "      <td>1438.0</td>\n",
              "    </tr>\n",
              "    <tr>\n",
              "      <th>2</th>\n",
              "      <td>Arkansas</td>\n",
              "      <td>1148.0</td>\n",
              "      <td>62.4</td>\n",
              "      <td>716.0</td>\n",
              "      <td>47.9</td>\n",
              "      <td>550.0</td>\n",
              "      <td>2.0</td>\n",
              "      <td>1097.0</td>\n",
              "      <td>30.6</td>\n",
              "      <td>351.0</td>\n",
              "      <td>2.3</td>\n",
              "      <td>810.0</td>\n",
              "    </tr>\n",
              "    <tr>\n",
              "      <th>3</th>\n",
              "      <td>California</td>\n",
              "      <td>12974.0</td>\n",
              "      <td>52.9</td>\n",
              "      <td>6865.0</td>\n",
              "      <td>32.8</td>\n",
              "      <td>4260.0</td>\n",
              "      <td>1.6</td>\n",
              "      <td>6687.0</td>\n",
              "      <td>28.3</td>\n",
              "      <td>3687.0</td>\n",
              "      <td>1.9</td>\n",
              "      <td>7118.0</td>\n",
              "    </tr>\n",
              "    <tr>\n",
              "      <th>4</th>\n",
              "      <td>Colorado</td>\n",
              "      <td>1986.0</td>\n",
              "      <td>61.3</td>\n",
              "      <td>1217.0</td>\n",
              "      <td>42.5</td>\n",
              "      <td>845.0</td>\n",
              "      <td>1.6</td>\n",
              "      <td>1349.0</td>\n",
              "      <td>32.3</td>\n",
              "      <td>642.0</td>\n",
              "      <td>1.9</td>\n",
              "      <td>1191.0</td>\n",
              "    </tr>\n",
              "  </tbody>\n",
              "</table>\n",
              "</div>\n",
              "      <button class=\"colab-df-convert\" onclick=\"convertToInteractive('df-23f83bde-661a-4cab-aef4-f4d811dc6780')\"\n",
              "              title=\"Convert this dataframe to an interactive table.\"\n",
              "              style=\"display:none;\">\n",
              "        \n",
              "  <svg xmlns=\"http://www.w3.org/2000/svg\" height=\"24px\"viewBox=\"0 0 24 24\"\n",
              "       width=\"24px\">\n",
              "    <path d=\"M0 0h24v24H0V0z\" fill=\"none\"/>\n",
              "    <path d=\"M18.56 5.44l.94 2.06.94-2.06 2.06-.94-2.06-.94-.94-2.06-.94 2.06-2.06.94zm-11 1L8.5 8.5l.94-2.06 2.06-.94-2.06-.94L8.5 2.5l-.94 2.06-2.06.94zm10 10l.94 2.06.94-2.06 2.06-.94-2.06-.94-.94-2.06-.94 2.06-2.06.94z\"/><path d=\"M17.41 7.96l-1.37-1.37c-.4-.4-.92-.59-1.43-.59-.52 0-1.04.2-1.43.59L10.3 9.45l-7.72 7.72c-.78.78-.78 2.05 0 2.83L4 21.41c.39.39.9.59 1.41.59.51 0 1.02-.2 1.41-.59l7.78-7.78 2.81-2.81c.8-.78.8-2.07 0-2.86zM5.41 20L4 18.59l7.72-7.72 1.47 1.35L5.41 20z\"/>\n",
              "  </svg>\n",
              "      </button>\n",
              "      \n",
              "  <style>\n",
              "    .colab-df-container {\n",
              "      display:flex;\n",
              "      flex-wrap:wrap;\n",
              "      gap: 12px;\n",
              "    }\n",
              "\n",
              "    .colab-df-convert {\n",
              "      background-color: #E8F0FE;\n",
              "      border: none;\n",
              "      border-radius: 50%;\n",
              "      cursor: pointer;\n",
              "      display: none;\n",
              "      fill: #1967D2;\n",
              "      height: 32px;\n",
              "      padding: 0 0 0 0;\n",
              "      width: 32px;\n",
              "    }\n",
              "\n",
              "    .colab-df-convert:hover {\n",
              "      background-color: #E2EBFA;\n",
              "      box-shadow: 0px 1px 2px rgba(60, 64, 67, 0.3), 0px 1px 3px 1px rgba(60, 64, 67, 0.15);\n",
              "      fill: #174EA6;\n",
              "    }\n",
              "\n",
              "    [theme=dark] .colab-df-convert {\n",
              "      background-color: #3B4455;\n",
              "      fill: #D2E3FC;\n",
              "    }\n",
              "\n",
              "    [theme=dark] .colab-df-convert:hover {\n",
              "      background-color: #434B5C;\n",
              "      box-shadow: 0px 1px 3px 1px rgba(0, 0, 0, 0.15);\n",
              "      filter: drop-shadow(0px 1px 2px rgba(0, 0, 0, 0.3));\n",
              "      fill: #FFFFFF;\n",
              "    }\n",
              "  </style>\n",
              "\n",
              "      <script>\n",
              "        const buttonEl =\n",
              "          document.querySelector('#df-23f83bde-661a-4cab-aef4-f4d811dc6780 button.colab-df-convert');\n",
              "        buttonEl.style.display =\n",
              "          google.colab.kernel.accessAllowed ? 'block' : 'none';\n",
              "\n",
              "        async function convertToInteractive(key) {\n",
              "          const element = document.querySelector('#df-23f83bde-661a-4cab-aef4-f4d811dc6780');\n",
              "          const dataTable =\n",
              "            await google.colab.kernel.invokeFunction('convertToInteractive',\n",
              "                                                     [key], {});\n",
              "          if (!dataTable) return;\n",
              "\n",
              "          const docLinkHtml = 'Like what you see? Visit the ' +\n",
              "            '<a target=\"_blank\" href=https://colab.research.google.com/notebooks/data_table.ipynb>data table notebook</a>'\n",
              "            + ' to learn more about interactive tables.';\n",
              "          element.innerHTML = '';\n",
              "          dataTable['output_type'] = 'display_data';\n",
              "          await google.colab.output.renderOutput(dataTable, element);\n",
              "          const docLink = document.createElement('div');\n",
              "          docLink.innerHTML = docLinkHtml;\n",
              "          element.appendChild(docLink);\n",
              "        }\n",
              "      </script>\n",
              "    </div>\n",
              "  </div>\n",
              "  "
            ],
            "text/plain": [
              "     Location  ...  Cat Population\n",
              "0     Alabama  ...          1252.0\n",
              "1     Arizona  ...          1438.0\n",
              "2    Arkansas  ...           810.0\n",
              "3  California  ...          7118.0\n",
              "4    Colorado  ...          1191.0\n",
              "\n",
              "[5 rows x 12 columns]"
            ]
          },
          "metadata": {},
          "execution_count": 4
        }
      ]
    },
    {
      "cell_type": "code",
      "source": [
        "animal_data['Percentage of Dog Owners'].hist(bins=10, edgecolor='black')\n",
        "animal_data['Percentage of Cat Owners'].hist(bins=20, edgecolor='black')\n",
        "plt.xlabel(\"Percent of Animal Owners\")\n",
        "plt.ylabel(\"Count\")"
      ],
      "metadata": {
        "colab": {
          "base_uri": "https://localhost:8080/",
          "height": 297
        },
        "id": "vtwgUkIjTZvm",
        "outputId": "d01aeef1-ca57-47ef-c505-9d976d305029"
      },
      "execution_count": 5,
      "outputs": [
        {
          "output_type": "execute_result",
          "data": {
            "text/plain": [
              "Text(0, 0.5, 'Count')"
            ]
          },
          "metadata": {},
          "execution_count": 5
        },
        {
          "output_type": "display_data",
          "data": {
            "image/png": "[encoded data removed]",
            "text/plain": [
              "<Figure size 432x288 with 1 Axes>"
            ]
          },
          "metadata": {
            "needs_background": "light"
          }
        }
      ]
    },
    {
      "cell_type": "markdown",
      "source": [
        "### Based on the data there are more dog owners than cat owners"
      ],
      "metadata": {
        "id": "LekQtow7RJU6"
      }
    },
    {
      "cell_type": "code",
      "source": [
        "f, axes = plt.subplots(1, 2)\n",
        "ax = sns.boxplot(y='Mean Number of Cats', data=animal_data,color='blue', ax=axes[0])\n",
        "ax = sns.boxplot(y='Mean Number of Dogs per household', data=animal_data,color='grey',ax=axes[1])"
      ],
      "metadata": {
        "colab": {
          "base_uri": "https://localhost:8080/",
          "height": 252
        },
        "id": "7uEhwqLbWx-f",
        "outputId": "e913fb6d-24d5-401f-ac17-93719d0e9e69"
      },
      "execution_count": 56,
      "outputs": [
        {
          "output_type": "display_data",
          "data": {
            "image/png": "[encoded data removed]",
            "text/plain": [
              "<Figure size 432x288 with 2 Axes>"
            ]
          },
          "metadata": {
            "needs_background": "light"
          }
        }
      ]
    },
    {
      "cell_type": "markdown",
      "source": [
        "## What can we see by comparing these two boxplots? What information does this tell us? \n",
        "\n",
        "### that the average number of households with cats are more commonly found than househongs with dogs"
      ],
      "metadata": {
        "id": "16XiXLHF6N58"
      }
    }
  ]
}