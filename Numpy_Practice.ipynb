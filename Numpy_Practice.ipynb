{
  "nbformat": 4,
  "nbformat_minor": 0,
  "metadata": {
    "colab": {
      "name": "Numpy_Practice.ipynb",
      "provenance": [],
      "collapsed_sections": [],
      "authorship_tag": "ABX9TyNiNgCazZWsGMxTqp+CRjED",
      "include_colab_link": true
    },
    "kernelspec": {
      "name": "python3",
      "display_name": "Python 3"
    },
    "language_info": {
      "name": "python"
    }
  },
  "cells": [
    {
      "cell_type": "markdown",
      "metadata": {
        "id": "view-in-github",
        "colab_type": "text"
      },
      "source": [
        "<a href=\"https://colab.research.google.com/github/erick-huang15/Python/blob/main/Numpy_Practice.ipynb\" target=\"_parent\"><img src=\"https://colab.research.google.com/assets/colab-badge.svg\" alt=\"Open In Colab\"/></a>"
      ]
    },
    {
      "cell_type": "code",
      "execution_count": 58,
      "metadata": {
        "id": "v06KX5vyhpy4",
        "colab": {
          "base_uri": "https://localhost:8080/"
        },
        "outputId": "4fab463b-0e7d-4a48-e2d5-0ca18c297e82"
      },
      "outputs": [
        {
          "output_type": "stream",
          "name": "stdout",
          "text": [
            "[ 2.   1.  12.   7.   4.5  3.   4. ]\n",
            "[17 40  1]\n"
          ]
        }
      ],
      "source": [
        "import numpy as np\n",
        "\n",
        "price = [2,1,10]\n",
        "quantity_sold = [17,40,1] #brownie, cookie, cake\n",
        "\n",
        "price_array = np.array(price)\n",
        "quantity_sold_array = np.array(quantity_sold)\n",
        "\n",
        "#sale = price_array * quantity_sold_array\n",
        "\n",
        "cost_array = np.array([0.25,0.5,5])\n",
        "\n",
        "price_array = np.append(price_array, [7]) # this is to append price of pie\n",
        "\n",
        "price_array = np.append(price_array, [4.5,3,4])\n",
        "price_array[2] = 12 \n",
        "\n",
        "print(price_array) #brownie, cookie, cake, pie, fudge, cupcake, bananabread\n",
        "print(quantity_sold_array)"
      ]
    },
    {
      "cell_type": "code",
      "source": [
        "#2) Update the  quantity_sold_array to include the sale of 2 pies,  3 trays of fudge, 16 cupcakes, and 5 loaves of banana bread.  \n",
        "#You also realize that one of the cookies you thought was sold had actually fallen on the ground, so edit the quantity_sold_array from 40 to 39. \n",
        "\n",
        "quantity_sold_array = np.append(quantity_sold_array, [2,3,16,5])\n",
        "quantity_sold_array[1] = 39\n",
        "print(quantity_sold_array)"
      ],
      "metadata": {
        "colab": {
          "base_uri": "https://localhost:8080/"
        },
        "id": "RZf1xONOwoBQ",
        "outputId": "02263371-6f0f-4cc1-c930-21ec9d92c1f2"
      },
      "execution_count": 59,
      "outputs": [
        {
          "output_type": "stream",
          "name": "stdout",
          "text": [
            "[17 39  1  2  3 16  5]\n"
          ]
        }
      ]
    },
    {
      "cell_type": "code",
      "source": [
        "# Determine the amount of money collected from the sale of each item at the bake sale\n",
        "\n",
        "bakery_sale = price_array * quantity_sold_array\n",
        "print(bakery_sale)"
      ],
      "metadata": {
        "colab": {
          "base_uri": "https://localhost:8080/"
        },
        "id": "7INBSdaq5E_0",
        "outputId": "f4baa09d-9be6-4d34-d79b-d8aee5985aa6"
      },
      "execution_count": 55,
      "outputs": [
        {
          "output_type": "stream",
          "name": "stdout",
          "text": [
            "[34.  39.  12.  14.  13.5 48.  20. ]\n"
          ]
        }
      ]
    },
    {
      "cell_type": "code",
      "source": [
        "# Create a NumPy array \"quantity_leftover\" that includes the quantity of each item remaining at the end of the sale: 2 cakes, 1 pie, 6 trays of fudge, 2 loaves of banana bread.  Hint: Make sure to include \"0\" for any item that was sold out. \n",
        "# Why is this important when creating the array?\n",
        "\n",
        "quantity_leftover = np.array([0,0,2,1,6,0,2])"
      ],
      "metadata": {
        "id": "yRPkLIS15sAL"
      },
      "execution_count": 56,
      "outputs": []
    },
    {
      "cell_type": "code",
      "source": [
        "#The club decides to sell the leftover items at half price and everything quickly sells out!  \n",
        "#Determine how much money was collected from the clearance sale. \n",
        "\n",
        "half_price = price_array/2\n",
        "clearance_sale = quantity_leftover * half_price\n",
        "\n",
        "total_sale1 = sum(bakery_sale) \n",
        "total_sale2 = sum(clearance_sale)\n",
        "\n",
        "print(\"$\",total_sale1 + total_sale2)\n"
      ],
      "metadata": {
        "colab": {
          "base_uri": "https://localhost:8080/"
        },
        "id": "Wvj-0PSn6teD",
        "outputId": "e02b6a9d-077c-4142-f099-51625f31470a"
      },
      "execution_count": 67,
      "outputs": [
        {
          "output_type": "stream",
          "name": "stdout",
          "text": [
            "$ 213.5\n"
          ]
        }
      ]
    }
  ]
}