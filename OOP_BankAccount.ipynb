{
  "nbformat": 4,
  "nbformat_minor": 0,
  "metadata": {
    "colab": {
      "name": "OOP_BankAccount.ipynb",
      "provenance": [],
      "collapsed_sections": [],
      "authorship_tag": "ABX9TyNZw5JILkFFRBpLgaaTMOmC",
      "include_colab_link": true
    },
    "kernelspec": {
      "name": "python3",
      "display_name": "Python 3"
    },
    "language_info": {
      "name": "python"
    }
  },
  "cells": [
    {
      "cell_type": "markdown",
      "metadata": {
        "id": "view-in-github",
        "colab_type": "text"
      },
      "source": [
        "<a href=\"https://colab.research.google.com/github/erick-huang15/CodingDojo/blob/main/OOP_BankAccount.ipynb\" target=\"_parent\"><img src=\"https://colab.research.google.com/assets/colab-badge.svg\" alt=\"Open In Colab\"/></a>"
      ]
    },
    {
      "cell_type": "code",
      "execution_count": 19,
      "metadata": {
        "colab": {
          "base_uri": "https://localhost:8080/"
        },
        "id": "j9v8Mx2k140q",
        "outputId": "0a346169-96a0-4115-9ca2-0713b2f97281"
      },
      "outputs": [
        {
          "output_type": "stream",
          "name": "stdout",
          "text": [
            "Insufficient funds: Charging a $5 fee\n",
            "Balance:, $-51.5\n",
            "Balance:, $-51.5\n"
          ]
        }
      ],
      "source": [
        "# Bank Account (Practice)\n",
        "# deposit(self, amount) - increases the account balance by the given amount\n",
        "# withdraw(self, amount) - decreases the account balance by the given amount if there are sufficient funds; if there is not enough money, print a message \"Insufficient funds: Charging a $5 fee and deduct $5\n",
        "# display_account_info(self) - print to the console: eg. \"Balance: $100\"\n",
        "# yield_interest(self) - increases the account balance by the current balance * the interest rate (as long as the balance is positive)\n",
        "\n",
        "class BankAccount: \n",
        "  def __init__(self,user_name,user_email,start_balance=0):\n",
        "    self.name = user_name\n",
        "    self.email = user_email\n",
        "    self.balance = start_balance\n",
        "\n",
        "  def deposit(self, amount):\n",
        "    self.balance = self.balance + amount\n",
        "    return self\n",
        "\n",
        "  def withdraw(self,amount):\n",
        "    self.balance = self.balance - amount\n",
        "    if self.balance >= 0:\n",
        "      print(f\"Your remaining balance is: ${self.balance}\")\n",
        "  \n",
        "    else:\n",
        "      self.balance = self.balance  - 5\n",
        "      print(f\"Insufficient funds: Charging a $5 fee\")\n",
        "\n",
        "  def display_account_info(self):\n",
        "    print(f\"Balance:, ${self.balance}\")\n",
        "\n",
        "  def yield_interest(self):\n",
        "    if self.balance >= 0:\n",
        "      self.balance = self.balance + (self.balance * 0.05)\n",
        "    # interset rate of 5% \n",
        "\n",
        "michael = BankAccount(\"Mike\",\"mike@yahoo.com\",500)\n",
        "michael.deposit(3.5)\n",
        "michael.withdraw(550)\n",
        "michael.display_account_info()\n",
        "michael.yield_interest()\n",
        "michael.display_account_info()"
      ]
    }
  ]
}