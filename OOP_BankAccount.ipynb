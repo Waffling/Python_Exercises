{
  "nbformat": 4,
  "nbformat_minor": 0,
  "metadata": {
    "colab": {
      "name": "OOP_BankAccount.ipynb",
      "provenance": [],
      "collapsed_sections": [],
      "authorship_tag": "ABX9TyMx1riMFRSe1zhmQvEEFSPn",
      "include_colab_link": true
    },
    "kernelspec": {
      "name": "python3",
      "display_name": "Python 3"
    },
    "language_info": {
      "name": "python"
    }
  },
  "cells": [
    {
      "cell_type": "markdown",
      "metadata": {
        "id": "view-in-github",
        "colab_type": "text"
      },
      "source": [
        "<a href=\"https://colab.research.google.com/github/erick-huang15/Python/blob/main/OOP_BankAccount.ipynb\" target=\"_parent\"><img src=\"https://colab.research.google.com/assets/colab-badge.svg\" alt=\"Open In Colab\"/></a>"
      ]
    },
    {
      "cell_type": "code",
      "execution_count": 60,
      "metadata": {
        "colab": {
          "base_uri": "https://localhost:8080/"
        },
        "id": "j9v8Mx2k140q",
        "outputId": "3c0e5502-ef6b-4b85-b004-e008474b9930"
      },
      "outputs": [
        {
          "output_type": "stream",
          "name": "stdout",
          "text": [
            "Balance:, $50000\n",
            "Your remaining balance is:,$49500\n"
          ]
        },
        {
          "output_type": "execute_result",
          "data": {
            "text/plain": [
              "<__main__.User at 0x7fe0fc368c90>"
            ]
          },
          "metadata": {},
          "execution_count": 60
        }
      ],
      "source": [
        "# Bank Account (Practice)\n",
        "# deposit(self, amount) - increases the account balance by the given amount\n",
        "# withdraw(self, amount) - decreases the account balance by the given amount if there are sufficient funds; if there is not enough money, print a message \"Insufficient funds: Charging a $5 fee and deduct $5\n",
        "# display_account_info(self) - print to the console: eg. \"Balance: $100\"\n",
        "# yield_interest(self) - increases the account balance by the current balance * the interest rate (as long as the balance is positive)\n",
        "\n",
        "class BankAccount: \n",
        "  def __init__(self,int_rate=0.01,start_balance=0):\n",
        "    self.int_rate = int_rate\n",
        "    self.balance = start_balance\n",
        "    \n",
        "  def deposit(self, amount):\n",
        "    self.balance = self.balance + amount\n",
        "\n",
        "  def withdraw(self,amount):\n",
        "    self.balance = self.balance - amount\n",
        "    if self.balance >= 0:\n",
        "      print(f\"Your remaining balance is:,${self.balance}\")\n",
        "  \n",
        "    else:\n",
        "      self.balance = self.balance  - 5\n",
        "      print(f\"Insufficient funds: Charging a $5 fee\")\n",
        "\n",
        "  def display_account_info(self):\n",
        "    print(f\"Balance:, ${self.balance}\")\n",
        "\n",
        "  def yield_interest(self):\n",
        "    if self.balance >= 0:\n",
        "      self.balance = self.balance + (self.balance * self.int_rate)\n",
        "\n",
        "\n",
        "class User:\n",
        "    def __init__(self,user_name,email_address,phone_number,start_balance=0):\n",
        "        self.name = user_name\n",
        "        self.email = email_address\n",
        "        self.number = phone_number\n",
        "        self.account = BankAccount()\n",
        "\n",
        "    def make_deposit(self,amount):\n",
        "        #self.balance = self.balance + amount\n",
        "        self.account.deposit(amount)\n",
        "        return self\n",
        "\n",
        "    def make_withdrawal(self,amount):\n",
        "        #self.balance = self.balance - amount\n",
        "        self.account.withdraw(amount)\n",
        "        return self\n",
        "\n",
        "    def display_user_balance(self):\n",
        "         print(f\"User: {self.name}, Balance:{self.account}\")\n",
        "\n",
        "\n",
        "michael = User(\"Mike\",\"mike@gmail.com\",4089999999)\n",
        "michael.account.deposit(50000)\n",
        "michael.account.display_account_info()\n",
        "michael.make_withdrawal(500)\n"
      ]
    }
  ]
}