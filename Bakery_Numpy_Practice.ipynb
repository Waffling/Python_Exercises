{
  "nbformat": 4,
  "nbformat_minor": 0,
  "metadata": {
    "colab": {
      "name": "Bakery_Numpy_Practice.ipynb",
      "provenance": [],
      "collapsed_sections": [],
      "mount_file_id": "1HqF-Fkk141ak5cOBX0KjI9D60nwr3Dts",
      "authorship_tag": "ABX9TyMIw0k/g3hmQx8MIQuKCx6e",
      "include_colab_link": true
    },
    "kernelspec": {
      "name": "python3",
      "display_name": "Python 3"
    },
    "language_info": {
      "name": "python"
    }
  },
  "cells": [
    {
      "cell_type": "markdown",
      "metadata": {
        "id": "view-in-github",
        "colab_type": "text"
      },
      "source": [
        "<a href=\"https://colab.research.google.com/github/erick-huang15/Python_Exercises/blob/main/Bakery_Numpy_Practice.ipynb\" target=\"_parent\"><img src=\"https://colab.research.google.com/assets/colab-badge.svg\" alt=\"Open In Colab\"/></a>"
      ]
    },
    {
      "cell_type": "code",
      "execution_count": 1,
      "metadata": {
        "id": "v06KX5vyhpy4",
        "colab": {
          "base_uri": "https://localhost:8080/"
        },
        "outputId": "f3e7259c-f0b9-45c9-eec6-59bafa9e6cb0"
      },
      "outputs": [
        {
          "output_type": "stream",
          "name": "stdout",
          "text": [
            "[ 2.   1.  12.   7.   4.5  3.   4. ]\n",
            "[17 40  1]\n"
          ]
        }
      ],
      "source": [
        "import numpy as np\n",
        "\n",
        "price = [2,1,10]\n",
        "quantity_sold = [17,40,1] #brownie, cookie, cake\n",
        "\n",
        "price_array = np.array(price)\n",
        "quantity_sold_array = np.array(quantity_sold)\n",
        "\n",
        "#sale = price_array * quantity_sold_array\n",
        "\n",
        "cost_array = np.array([0.25,0.5,5])\n",
        "\n",
        "price_array = np.append(price_array, [7]) # this is to append price of pie\n",
        "\n",
        "price_array = np.append(price_array, [4.5,3,4])\n",
        "price_array[2] = 12 \n",
        "\n",
        "print(price_array) #brownie, cookie, cake, pie, fudge, cupcake, bananabread\n",
        "print(quantity_sold_array)"
      ]
    },
    {
      "cell_type": "code",
      "source": [
        "#2) Update the  quantity_sold_array to include the sale of 2 pies,  3 trays of fudge, 16 cupcakes, and 5 loaves of banana bread.  \n",
        "#You also realize that one of the cookies you thought was sold had actually fallen on the ground, so edit the quantity_sold_array from 40 to 39. \n",
        "\n",
        "quantity_sold_array = np.append(quantity_sold_array, [2,3,16,5])\n",
        "quantity_sold_array[1] = 39\n",
        "print(quantity_sold_array)"
      ],
      "metadata": {
        "colab": {
          "base_uri": "https://localhost:8080/"
        },
        "id": "RZf1xONOwoBQ",
        "outputId": "0be1cddc-9ca5-4073-f0c3-e641cb807edd"
      },
      "execution_count": 2,
      "outputs": [
        {
          "output_type": "stream",
          "name": "stdout",
          "text": [
            "[17 39  1  2  3 16  5]\n"
          ]
        }
      ]
    },
    {
      "cell_type": "code",
      "source": [
        "# Determine the amount of money collected from the sale of each item at the bake sale\n",
        "\n",
        "bakery_sale = price_array * quantity_sold_array\n",
        "print(bakery_sale)"
      ],
      "metadata": {
        "colab": {
          "base_uri": "https://localhost:8080/"
        },
        "id": "7INBSdaq5E_0",
        "outputId": "e85910a5-9d97-4b55-ed52-d2f3a940d182"
      },
      "execution_count": 3,
      "outputs": [
        {
          "output_type": "stream",
          "name": "stdout",
          "text": [
            "[34.  39.  12.  14.  13.5 48.  20. ]\n"
          ]
        }
      ]
    },
    {
      "cell_type": "code",
      "source": [
        "# Create a NumPy array \"quantity_leftover\" that includes the quantity of each item remaining at the end of the sale: 2 cakes, 1 pie, 6 trays of fudge, 2 loaves of banana bread.  Hint: Make sure to include \"0\" for any item that was sold out. \n",
        "# Why is this important when creating the array?\n",
        "\n",
        "quantity_leftover = np.array([0,0,2,1,6,0,2])"
      ],
      "metadata": {
        "id": "yRPkLIS15sAL"
      },
      "execution_count": 4,
      "outputs": []
    },
    {
      "cell_type": "code",
      "source": [
        "#The club decides to sell the leftover items at half price and everything quickly sells out!  \n",
        "#Determine how much money was collected from the clearance sale. \n",
        "\n",
        "half_price = price_array/2\n",
        "clearance_sale = quantity_leftover * half_price\n",
        "\n",
        "total_sale1 = sum(bakery_sale) \n",
        "total_sale2 = sum(clearance_sale)\n",
        "\n",
        "print(f'Clearance_sale $',sum(clearance_sale))\n",
        "print(f\"The total money that was collected form the bake sale is $\",total_sale1 + total_sale2)"
      ],
      "metadata": {
        "colab": {
          "base_uri": "https://localhost:8080/"
        },
        "id": "Wvj-0PSn6teD",
        "outputId": "32a1cf27-5e8c-4399-8655-cbdec13e82e5"
      },
      "execution_count": 9,
      "outputs": [
        {
          "output_type": "stream",
          "name": "stdout",
          "text": [
            "Clearance_sale $ 33.0\n",
            "The total money that was collected form the bake sale is $ 213.5\n"
          ]
        }
      ]
    }
  ]
}